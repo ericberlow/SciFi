{
  "cells": [
    {
      "cell_type": "markdown",
      "source": [
        "### Import libraries"
      ],
      "metadata": {}
    },
    {
      "cell_type": "code",
      "source": [
        "from bs4 import BeautifulSoup\n",
        "import pandas as pd\n",
        "import requests\n",
        "import time\n",
        "import csv\n",
        "import json\n",
        "import lxml"
      ],
      "outputs": [],
      "execution_count": 2,
      "metadata": {
        "execution": {
          "iopub.status.busy": "2020-08-14T14:58:40.572Z",
          "iopub.execute_input": "2020-08-14T14:58:40.577Z",
          "iopub.status.idle": "2020-08-14T14:58:40.585Z",
          "shell.execute_reply": "2020-08-14T14:58:40.591Z"
        }
      }
    },
    {
      "cell_type": "markdown",
      "source": [
        "The `fetch_scifi_novels()` function grabs BeautifulSoup representation of a page of books.\n",
        "\n",
        "- First Page URL: https://www.goodreads.com/list/show/3.Best_Science_Fiction_Fantasy_Books?page=1\n",
        "- Second Page URL: https://www.goodreads.com/list/show/3.Best_Science_Fiction_Fantasy_Books?page=2\n",
        "\n",
        "- Base URL: https://www.goodreads.com/list/show/3.Best_Science_Fiction_Fantasy_Books\n",
        "- N Page Url (1 to 64): ?page=N"
      ],
      "metadata": {}
    },
    {
      "cell_type": "code",
      "source": [
        "def fetch_scifi_novels(page_num):\n",
        "    print(\"Fetching top level page \", str(page_num))\n",
        "    base_url = \"http://www.goodreads.com/list/show/3.Best_Science_Fiction_Fantasy_Books\"\n",
        "    page_url = base_url + \"?page=\" + str(page_num)\n",
        "    r = requests.get(page_url)\n",
        "    soup = BeautifulSoup(r.content, \"lxml\")\n",
        "    # Returns BeautifulSoup object for the first \n",
        "    return(soup)"
      ],
      "outputs": [],
      "execution_count": 3,
      "metadata": {
        "execution": {
          "iopub.status.busy": "2020-08-14T14:58:42.812Z",
          "iopub.execute_input": "2020-08-14T14:58:42.817Z",
          "iopub.status.idle": "2020-08-14T14:58:42.824Z",
          "shell.execute_reply": "2020-08-14T14:58:42.831Z"
        }
      }
    },
    {
      "cell_type": "markdown",
      "source": [
        "The `parse_book_urls_from_page()` parses the BeautifulSoup object and returns a list of links.\n",
        "\n",
        "Example for page 1:\n",
        "\n",
        "```\n",
        "[\n",
        "    \"https://www.goodreads.com/book/show/375802.Ender_s_Game\",\n",
        "    \"https://www.goodreads.com/book/show/234225.Dune\",\n",
        "    ...\n",
        "]\n",
        "```"
      ],
      "metadata": {}
    },
    {
      "cell_type": "code",
      "source": [
        "# Extract list of book URL's from a single page from \"Best Science Fiction & Fantasy Books\" list\n",
        "def parse_book_urls_from_page(current_page):\n",
        "    current_page_books = current_page.find_all('a', attrs={'class': 'bookTitle'})\n",
        "    \n",
        "    # Parse the Goodreads book URL's and append to this list:\n",
        "    current_page_book_links = []\n",
        "\n",
        "    for book_a in current_page_books:\n",
        "        link = book_a.get('href')\n",
        "        full_link = \"http://www.goodreads.com\" + link\n",
        "        current_page_book_links.append(full_link)\n",
        "    # Returns list of book URLS.\n",
        "    return(current_page_book_links)"
      ],
      "outputs": [],
      "execution_count": 4,
      "metadata": {
        "execution": {
          "iopub.status.busy": "2020-08-14T14:58:47.120Z",
          "iopub.execute_input": "2020-08-14T14:58:47.124Z",
          "iopub.status.idle": "2020-08-14T14:58:47.131Z",
          "shell.execute_reply": "2020-08-14T14:58:47.134Z"
        }
      }
    },
    {
      "cell_type": "markdown",
      "source": [
        "- `parse_genre_page()` is a helper function for `parse_books()`\n",
        "- `parse_books()` accepts the list of book URL's and grabs interesting attributes"
      ],
      "metadata": {}
    },
    {
      "cell_type": "code",
      "source": [
        "# Helper function, used within parse_books()\n",
        "def parse_genre_page(genre_url):\n",
        "    r = requests.get(genre_url)\n",
        "    soup = BeautifulSoup(r.content, \"lxml\")\n",
        "    tagged_genres = soup.find_all('a', attrs={'class': 'mediumText actionLinkLite'})\n",
        "    genre_names = []\n",
        "    genre_urls = []\n",
        "    for genre_html in tagged_genres:\n",
        "        genre_name = genre_html.text\n",
        "        genre_names.append(genre_name)\n",
        "        genre_url = \"http://www.goodreads.com\" + genre_html['href']\n",
        "        genre_urls.append(genre_url)\n",
        "    genre_dict = {}\n",
        "    genre_dict[\"names\"] = genre_names\n",
        "    genre_dict[\"urls\"] = genre_urls\n",
        "    return(genre_dict)\n",
        "\n",
        "# To test a quick example using parse_genre_page(), uncomment the following code:\n",
        "# parse_genre_page(\"https://www.goodreads.com/work/shelves/2422333\")\n",
        "\n",
        "# Fetch all of the interesting info for a <list> of book URLs.\n",
        "def parse_books(book_urls):\n",
        "    counter = 0\n",
        "    num_books = len(book_urls)\n",
        "    all_books_info = []\n",
        "    time.sleep(2)\n",
        "    for b_url in book_urls:\n",
        "        final_book_info = {}\n",
        "        # How many more books left?\n",
        "        counter += 1\n",
        "        print(\"Fetching Book \", str(counter), \" of \", str(num_books))\n",
        "\n",
        "        # Make request to the book page and parse using BeautifulSoup\n",
        "        r = requests.get(b_url)\n",
        "        soup = BeautifulSoup(r.content, \"lxml\")\n",
        "\n",
        "        # Start grabbing stuff!\n",
        "        # Book Title!\n",
        "        title_soup = soup.find('h1', attrs={'id': 'bookTitle'})\n",
        "        book_title = title_soup.text.replace(\"\\n\", \"\").replace(\"   \", \"\")\n",
        "\n",
        "        # Number of total ratings (0-5 stars)! Strip new-line characters + extraneous whitespace\n",
        "        num_ratings = soup.find('span', attrs={'class': \"votes value-title\"}).text.strip()\n",
        "        # Convert '100,000' to 100000\n",
        "        fmtd_num_ratings = num_ratings.replace(',', '')\n",
        "\n",
        "        # Tagged Genres\n",
        "        top_genres = {}\n",
        "        tagged_genre_html = soup.find_all('a', attrs={'class': 'bookPageGenreLink__seeMoreLink'})\n",
        "        if len(tagged_genre_html) > 0:\n",
        "            tagged_genre_page_url = \"http://www.goodreads.com\" + tagged_genre_html[0].get('href')\n",
        "            top_genres = parse_genre_page(tagged_genre_page_url)\n",
        "\n",
        "        # Reviews\n",
        "        # Number of total reviews. Strip new-line characters + extraneous whitespace\n",
        "        num_reviews = soup.find('span', attrs={'class': \"count value-title\"}).text.strip()\n",
        "        # Convert '100,000' to 100000\n",
        "        fmtd_num_reviews = num_reviews.replace(',', '')\n",
        "\n",
        "        # Reviews from the first page!\n",
        "        book_reviews = []\n",
        "        all_spans = soup.find('div', attrs={'id': 'bookReviews'}).find_all('span')\n",
        "\n",
        "        for sp in all_spans:\n",
        "            sp_id = sp.get('id')\n",
        "            if sp_id and sp_id.startswith('freeText'):\n",
        "                book_reviews.append(sp.text)\n",
        "        ###########\n",
        "                \n",
        "        # Plot\n",
        "        s = soup.find(\"div\", {\"id\": \"descriptionContainer\"})\n",
        "        \n",
        "        plot = \"NaN\"\n",
        "        if len(s.find_all(\"span\")) == 1:\n",
        "            plot = s.find_all(\"span\")[0].text\n",
        "        if len(s.find_all(\"span\")) == 2:\n",
        "            plot = s.find_all(\"span\")[1].text\n",
        "\n",
        "        # Author\n",
        "        author = \"NaN\"\n",
        "        author_block_one = soup.find(\"div\", {\"id\": \"aboutAuthor\"})\n",
        "        author_block_two = soup.find(\"a\", class_=\"authorName\")\n",
        "        \n",
        "        if author_block_one:\n",
        "            author = author_block_one.find(\"div\").text.lstrip(\"About\").lstrip()\n",
        "        if author_block_two:\n",
        "            author = author_block_two.text\n",
        "\n",
        "        # Published\n",
        "        publisher_block = soup.find_all(\"div\", class_=\"row\")\n",
        "\n",
        "        publisher_text = \"NaN\"\n",
        "        if len(publisher_block) > 1:\n",
        "            publisher_text = publisher_block[1].text.replace(\"\\n\", \"\").replace(\"  \", \"\")\n",
        "        elif len(publisher_block) == 1:\n",
        "            publisher_text = publisher_block[0].text.replace(\"\\n\", \"\").replace(\"  \", \"\")\n",
        "        \n",
        "        book_info = {}\n",
        "        book_info[\"url\"] = b_url\n",
        "        book_info[\"plot\"] = plot\n",
        "        book_info[\"author\"] = author\n",
        "        book_info[\"published\"] = publisher_text\n",
        "        \n",
        "        ###########\n",
        "        book_info[\"ratings\"] = {}\n",
        "        # Add number of user ratings (0-5 stars)\n",
        "        book_info[\"ratings\"][\"number\"] = fmtd_num_ratings\n",
        "        book_info[\"reviews\"] = {}\n",
        "        # Add number of reviews\n",
        "        book_info[\"reviews\"][\"number\"] = fmtd_num_reviews\n",
        "        # Add list of reviews\n",
        "        book_info[\"reviews\"][\"list_of_reviews\"] = book_reviews\n",
        "        # Add genres\n",
        "        book_info[\"genres\"] = top_genres\n",
        "        \n",
        "        ##########\n",
        "        book_info[\"url\"] = b_url\n",
        "        book_info[\"plot\"] = plot\n",
        "        book_info[\"author\"] = author\n",
        "        book_info[\"published\"] = publisher_text\n",
        "        ##########\n",
        "\n",
        "        # Assign nested dictionary containing the book's info to the final dict to return.\n",
        "        final_book_info[book_title] = book_info\n",
        "        \n",
        "        # Add to the final dictionary to be converted to JSON and dumped out to a file.\n",
        "        all_books_info.append(final_book_info)\n",
        "        \n",
        "    return(all_books_info)"
      ],
      "outputs": [],
      "execution_count": 5,
      "metadata": {
        "execution": {
          "iopub.status.busy": "2020-08-14T14:58:53.355Z",
          "iopub.execute_input": "2020-08-14T14:58:53.361Z",
          "iopub.status.idle": "2020-08-14T14:58:53.369Z",
          "shell.execute_reply": "2020-08-14T14:58:53.376Z"
        }
      }
    },
    {
      "cell_type": "markdown",
      "source": [
        "### Glue Code That Downloads All Data By Calling Functions Above"
      ],
      "metadata": {}
    },
    {
      "cell_type": "code",
      "source": [
        "for i in range(1, 65):\n",
        "    page_soup = fetch_scifi_novels(i)\n",
        "    page_links = parse_book_urls_from_page(page_soup)\n",
        "    final_results = parse_books(page_links)\n",
        "    filename = \"page_\" + str(i) + \".json\"\n",
        "\n",
        "    with open(filename, \"w\") as f:\n",
        "        json.dump(final_results, f, indent=2)\n"
      ],
      "outputs": [
        {
          "output_type": "stream",
          "name": "stdout",
          "text": [
            "Fetching top level page  1\n",
            "Fetching Book  1  of  100\n"
          ]
        },
        {
          "output_type": "error",
          "ename": "AttributeError",
          "evalue": "'NoneType' object has no attribute 'text'",
          "traceback": [
            "\u001b[0;31m---------------------------------------------------------------------------\u001b[0m",
            "\u001b[0;31mAttributeError\u001b[0m                            Traceback (most recent call last)",
            "\u001b[0;32m<ipython-input-6-d480b904b1dc>\u001b[0m in \u001b[0;36m<module>\u001b[0;34m\u001b[0m\n\u001b[1;32m      2\u001b[0m     \u001b[0mpage_soup\u001b[0m \u001b[0;34m=\u001b[0m \u001b[0mfetch_scifi_novels\u001b[0m\u001b[0;34m(\u001b[0m\u001b[0mi\u001b[0m\u001b[0;34m)\u001b[0m\u001b[0;34m\u001b[0m\u001b[0;34m\u001b[0m\u001b[0m\n\u001b[1;32m      3\u001b[0m     \u001b[0mpage_links\u001b[0m \u001b[0;34m=\u001b[0m \u001b[0mparse_book_urls_from_page\u001b[0m\u001b[0;34m(\u001b[0m\u001b[0mpage_soup\u001b[0m\u001b[0;34m)\u001b[0m\u001b[0;34m\u001b[0m\u001b[0;34m\u001b[0m\u001b[0m\n\u001b[0;32m----> 4\u001b[0;31m     \u001b[0mfinal_results\u001b[0m \u001b[0;34m=\u001b[0m \u001b[0mparse_books\u001b[0m\u001b[0;34m(\u001b[0m\u001b[0mpage_links\u001b[0m\u001b[0;34m)\u001b[0m\u001b[0;34m\u001b[0m\u001b[0;34m\u001b[0m\u001b[0m\n\u001b[0m\u001b[1;32m      5\u001b[0m     \u001b[0mfilename\u001b[0m \u001b[0;34m=\u001b[0m \u001b[0;34m\"page_\"\u001b[0m \u001b[0;34m+\u001b[0m \u001b[0mstr\u001b[0m\u001b[0;34m(\u001b[0m\u001b[0mi\u001b[0m\u001b[0;34m)\u001b[0m \u001b[0;34m+\u001b[0m \u001b[0;34m\".json\"\u001b[0m\u001b[0;34m\u001b[0m\u001b[0;34m\u001b[0m\u001b[0m\n\u001b[1;32m      6\u001b[0m \u001b[0;34m\u001b[0m\u001b[0m\n",
            "\u001b[0;32m<ipython-input-5-60360c9cb144>\u001b[0m in \u001b[0;36mparse_books\u001b[0;34m(book_urls)\u001b[0m\n\u001b[1;32m     41\u001b[0m \u001b[0;34m\u001b[0m\u001b[0m\n\u001b[1;32m     42\u001b[0m         \u001b[0;31m# Number of total ratings (0-5 stars)! Strip new-line characters + extraneous whitespace\u001b[0m\u001b[0;34m\u001b[0m\u001b[0;34m\u001b[0m\u001b[0;34m\u001b[0m\u001b[0m\n\u001b[0;32m---> 43\u001b[0;31m         \u001b[0mnum_ratings\u001b[0m \u001b[0;34m=\u001b[0m \u001b[0msoup\u001b[0m\u001b[0;34m.\u001b[0m\u001b[0mfind\u001b[0m\u001b[0;34m(\u001b[0m\u001b[0;34m'span'\u001b[0m\u001b[0;34m,\u001b[0m \u001b[0mattrs\u001b[0m\u001b[0;34m=\u001b[0m\u001b[0;34m{\u001b[0m\u001b[0;34m'class'\u001b[0m\u001b[0;34m:\u001b[0m \u001b[0;34m\"votes value-title\"\u001b[0m\u001b[0;34m}\u001b[0m\u001b[0;34m)\u001b[0m\u001b[0;34m.\u001b[0m\u001b[0mtext\u001b[0m\u001b[0;34m.\u001b[0m\u001b[0mstrip\u001b[0m\u001b[0;34m(\u001b[0m\u001b[0;34m)\u001b[0m\u001b[0;34m\u001b[0m\u001b[0;34m\u001b[0m\u001b[0m\n\u001b[0m\u001b[1;32m     44\u001b[0m         \u001b[0;31m# Convert '100,000' to 100000\u001b[0m\u001b[0;34m\u001b[0m\u001b[0;34m\u001b[0m\u001b[0;34m\u001b[0m\u001b[0m\n\u001b[1;32m     45\u001b[0m         \u001b[0mfmtd_num_ratings\u001b[0m \u001b[0;34m=\u001b[0m \u001b[0mnum_ratings\u001b[0m\u001b[0;34m.\u001b[0m\u001b[0mreplace\u001b[0m\u001b[0;34m(\u001b[0m\u001b[0;34m','\u001b[0m\u001b[0;34m,\u001b[0m \u001b[0;34m''\u001b[0m\u001b[0;34m)\u001b[0m\u001b[0;34m\u001b[0m\u001b[0;34m\u001b[0m\u001b[0m\n",
            "\u001b[0;31mAttributeError\u001b[0m: 'NoneType' object has no attribute 'text'"
          ]
        }
      ],
      "execution_count": 6,
      "metadata": {
        "execution": {
          "iopub.status.busy": "2020-08-14T14:59:03.137Z",
          "iopub.execute_input": "2020-08-14T14:59:03.141Z",
          "iopub.status.idle": "2020-08-14T14:59:14.613Z",
          "shell.execute_reply": "2020-08-14T14:59:14.625Z"
        }
      }
    },
    {
      "cell_type": "markdown",
      "source": [
        "### Data Counts Dictionary\n",
        "\n",
        "Read in downloaded data and build dictionary of counts."
      ],
      "metadata": {}
    },
    {
      "cell_type": "code",
      "source": [
        "import os, json\n",
        "\n",
        "counts = {\n",
        "    \"url\": 0,\n",
        "    \"plot\": 0,\n",
        "    \"author\": 0,\n",
        "    \"published\": 0,\n",
        "    \"ratings\": 0,\n",
        "    \"reviews\": 0,\n",
        "    \"genres\": 0\n",
        "}\n",
        "\n",
        "for i in range(1, 64):\n",
        "    data = json.load(open('page_' + str(i) + '.json'))\n",
        "    for book in data:\n",
        "        book_key = list(book.keys())[0]\n",
        "        book_key_list = book[book_key].keys()\n",
        "        for deep_key in book_key_list:\n",
        "            if book[book_key][deep_key] != \"NaN\":\n",
        "                counts[deep_key] += 1"
      ],
      "outputs": [
        {
          "output_type": "error",
          "ename": "FileNotFoundError",
          "evalue": "[Errno 2] No such file or directory: 'page_1.json'",
          "traceback": [
            "\u001b[0;31m---------------------------------------------------------------------------\u001b[0m",
            "\u001b[0;31mFileNotFoundError\u001b[0m                         Traceback (most recent call last)",
            "\u001b[0;32m<ipython-input-6-655323922e06>\u001b[0m in \u001b[0;36m<module>\u001b[0;34m\u001b[0m\n\u001b[1;32m     12\u001b[0m \u001b[0;34m\u001b[0m\u001b[0m\n\u001b[1;32m     13\u001b[0m \u001b[0;32mfor\u001b[0m \u001b[0mi\u001b[0m \u001b[0;32min\u001b[0m \u001b[0mrange\u001b[0m\u001b[0;34m(\u001b[0m\u001b[0;36m1\u001b[0m\u001b[0;34m,\u001b[0m \u001b[0;36m64\u001b[0m\u001b[0;34m)\u001b[0m\u001b[0;34m:\u001b[0m\u001b[0;34m\u001b[0m\u001b[0;34m\u001b[0m\u001b[0m\n\u001b[0;32m---> 14\u001b[0;31m     \u001b[0mdata\u001b[0m \u001b[0;34m=\u001b[0m \u001b[0mjson\u001b[0m\u001b[0;34m.\u001b[0m\u001b[0mload\u001b[0m\u001b[0;34m(\u001b[0m\u001b[0mopen\u001b[0m\u001b[0;34m(\u001b[0m\u001b[0;34m'page_'\u001b[0m \u001b[0;34m+\u001b[0m \u001b[0mstr\u001b[0m\u001b[0;34m(\u001b[0m\u001b[0mi\u001b[0m\u001b[0;34m)\u001b[0m \u001b[0;34m+\u001b[0m \u001b[0;34m'.json'\u001b[0m\u001b[0;34m)\u001b[0m\u001b[0;34m)\u001b[0m\u001b[0;34m\u001b[0m\u001b[0;34m\u001b[0m\u001b[0m\n\u001b[0m\u001b[1;32m     15\u001b[0m     \u001b[0;32mfor\u001b[0m \u001b[0mbook\u001b[0m \u001b[0;32min\u001b[0m \u001b[0mdata\u001b[0m\u001b[0;34m:\u001b[0m\u001b[0;34m\u001b[0m\u001b[0;34m\u001b[0m\u001b[0m\n\u001b[1;32m     16\u001b[0m         \u001b[0mbook_key\u001b[0m \u001b[0;34m=\u001b[0m \u001b[0mlist\u001b[0m\u001b[0;34m(\u001b[0m\u001b[0mbook\u001b[0m\u001b[0;34m.\u001b[0m\u001b[0mkeys\u001b[0m\u001b[0;34m(\u001b[0m\u001b[0;34m)\u001b[0m\u001b[0;34m)\u001b[0m\u001b[0;34m[\u001b[0m\u001b[0;36m0\u001b[0m\u001b[0;34m]\u001b[0m\u001b[0;34m\u001b[0m\u001b[0;34m\u001b[0m\u001b[0m\n",
            "\u001b[0;31mFileNotFoundError\u001b[0m: [Errno 2] No such file or directory: 'page_1.json'"
          ]
        }
      ],
      "execution_count": 6,
      "metadata": {
        "execution": {
          "iopub.status.busy": "2020-08-14T14:57:18.206Z",
          "iopub.execute_input": "2020-08-14T14:57:18.210Z",
          "iopub.status.idle": "2020-08-14T14:57:18.222Z",
          "shell.execute_reply": "2020-08-14T14:57:18.343Z"
        }
      }
    },
    {
      "cell_type": "code",
      "source": [
        "counts"
      ],
      "outputs": [
        {
          "output_type": "execute_result",
          "execution_count": 7,
          "data": {
            "text/plain": "{'url': 0,\n 'plot': 0,\n 'author': 0,\n 'published': 0,\n 'ratings': 0,\n 'reviews': 0,\n 'genres': 0}"
          },
          "metadata": {}
        }
      ],
      "execution_count": 7,
      "metadata": {
        "execution": {
          "iopub.status.busy": "2020-08-14T14:57:18.229Z",
          "iopub.execute_input": "2020-08-14T14:57:18.234Z",
          "iopub.status.idle": "2020-08-14T14:57:18.244Z",
          "shell.execute_reply": "2020-08-14T14:57:18.346Z"
        }
      }
    }
  ],
  "metadata": {
    "kernelspec": {
      "display_name": "Python 3",
      "language": "python",
      "name": "python3"
    },
    "language_info": {
      "name": "python",
      "version": "3.7.6",
      "mimetype": "text/x-python",
      "codemirror_mode": {
        "name": "ipython",
        "version": 3
      },
      "pygments_lexer": "ipython3",
      "nbconvert_exporter": "python",
      "file_extension": ".py"
    },
    "nteract": {
      "version": "0.24.1"
    }
  },
  "nbformat": 4,
  "nbformat_minor": 2
}